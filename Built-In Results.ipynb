{
 "cells": [
  {
   "cell_type": "markdown",
   "id": "guided-developer",
   "metadata": {},
   "source": [
    "STUDENT : Melis HARMANTEPE"
   ]
  },
  {
   "cell_type": "code",
   "execution_count": 1,
   "id": "freelance-constitution",
   "metadata": {},
   "outputs": [],
   "source": [
    "import pandas as pd\n",
    "import numpy as np\n",
    "from matplotlib import pyplot as plt\n",
    "from pandas.io.parsers import read_csv\n",
    "import seaborn as sns\n",
    "import plotly.express as px\n",
    "import plotly.graph_objs as go\n",
    "from plotly.subplots import make_subplots\n",
    "import plotly.figure_factory as ff\n",
    "\n",
    "from sklearn.preprocessing import MinMaxScaler\n",
    "from sklearn.model_selection import train_test_split\n",
    "from sklearn.metrics import confusion_matrix, accuracy_score, roc_auc_score\n",
    "from mlxtend.plotting import plot_confusion_matrix\n",
    "from sklearn.metrics import classification_report\n",
    "from sklearn.metrics import accuracy_score\n",
    "from sklearn.metrics import f1_score\n",
    "\n",
    "from sklearn.linear_model import LogisticRegression\n",
    "from sklearn.svm import SVC\n",
    "from sklearn.neural_network import MLPClassifier\n",
    "import warnings\n",
    "warnings.filterwarnings('ignore')"
   ]
  },
  {
   "cell_type": "markdown",
   "id": "blond-guinea",
   "metadata": {},
   "source": [
    "# Read the data"
   ]
  },
  {
   "cell_type": "code",
   "execution_count": 2,
   "id": "assigned-belly",
   "metadata": {},
   "outputs": [],
   "source": [
    "data = pd.read_csv(\"heart_failure_clinical_records_dataset.csv\")"
   ]
  },
  {
   "cell_type": "code",
   "execution_count": 3,
   "id": "former-enhancement",
   "metadata": {},
   "outputs": [],
   "source": [
    "X = data.drop(\"DEATH_EVENT\", axis=1)\n",
    "y = data[\"DEATH_EVENT\"]"
   ]
  },
  {
   "cell_type": "markdown",
   "id": "duplicate-radar",
   "metadata": {},
   "source": [
    "# Normalize"
   ]
  },
  {
   "cell_type": "code",
   "execution_count": 4,
   "id": "naughty-peripheral",
   "metadata": {},
   "outputs": [
    {
     "data": {
      "text/plain": [
       "array([[0.63636364, 0.        , 0.07131921, ..., 1.        , 0.        ,\n",
       "        0.        ],\n",
       "       [0.27272727, 0.        , 1.        , ..., 1.        , 0.        ,\n",
       "        0.00711744],\n",
       "       [0.45454545, 0.        , 0.01569278, ..., 1.        , 1.        ,\n",
       "        0.01067616],\n",
       "       ...,\n",
       "       [0.09090909, 0.        , 0.25988773, ..., 0.        , 0.        ,\n",
       "        0.97508897],\n",
       "       [0.09090909, 0.        , 0.30492473, ..., 1.        , 1.        ,\n",
       "        0.98220641],\n",
       "       [0.18181818, 0.        , 0.02207196, ..., 1.        , 1.        ,\n",
       "        1.        ]])"
      ]
     },
     "execution_count": 4,
     "metadata": {},
     "output_type": "execute_result"
    }
   ],
   "source": [
    "scalar = MinMaxScaler()\n",
    "scalar.fit_transform(X)"
   ]
  },
  {
   "cell_type": "markdown",
   "id": "irish-locking",
   "metadata": {},
   "source": [
    "# Split into test, train validation sets"
   ]
  },
  {
   "cell_type": "code",
   "execution_count": 5,
   "id": "familiar-metallic",
   "metadata": {},
   "outputs": [
    {
     "name": "stdout",
     "output_type": "stream",
     "text": [
      "Dataset :  (299, 12) (299,)\n",
      "Training set :  (179, 12) (179,)\n",
      "Test set :  (60, 12) (60,)\n",
      "Cross validation set :  (60, 12) (60,)\n"
     ]
    }
   ],
   "source": [
    "#Split data into 3 sets: train (%60), test (%20), cross validation (%20)\n",
    "X_train, X_test, y_train, y_test = train_test_split(X, y, test_size=0.2, train_size=0.8)\n",
    "X_train, X_val, y_train, y_val = train_test_split(X_train,y_train,test_size = 0.25,train_size =0.75)\n",
    "\n",
    "print(\"Dataset : \",X.shape, y.shape)\n",
    "print(\"Training set : \",X_train.shape, y_train.shape)\n",
    "print(\"Test set : \", X_test.shape, y_test.shape)\n",
    "print(\"Cross validation set : \", X_val.shape, y_val.shape)"
   ]
  },
  {
   "cell_type": "markdown",
   "id": "incoming-relay",
   "metadata": {},
   "source": [
    "# Logistic Regression"
   ]
  },
  {
   "cell_type": "markdown",
   "id": "middle-husband",
   "metadata": {},
   "source": [
    "## Find the best Lambda"
   ]
  },
  {
   "cell_type": "code",
   "execution_count": 6,
   "id": "electrical-texas",
   "metadata": {},
   "outputs": [
    {
     "name": "stdout",
     "output_type": "stream",
     "text": [
      "Best value for Lambda: 100\n",
      "Score: 0.8333333333333334\n"
     ]
    }
   ],
   "source": [
    "lambdas = [0.001, 0.01, 0.1, 1, 10, 100]\n",
    "length = len(lambdas)\n",
    "scores = np.zeros(shape=length)\n",
    "\n",
    "for i,l in enumerate(lambdas):\n",
    "    LR = LogisticRegression(C=l, max_iter=200)\n",
    "    LR.fit(X_train, y_train.ravel())\n",
    "    scores[i] = LR.score(X_val, y_val.ravel())\n",
    "\n",
    "maxScore = np.amax(scores)\n",
    "pos = np.argwhere(scores == maxScore)[-1]\n",
    "l = lambdas[pos[0]]\n",
    "print(\"Best value for Lambda: \" + repr(l))\n",
    "print(\"Score: \"+repr(maxScore))"
   ]
  },
  {
   "cell_type": "code",
   "execution_count": 7,
   "id": "angry-people",
   "metadata": {},
   "outputs": [
    {
     "name": "stdout",
     "output_type": "stream",
     "text": [
      "Logistic Regression Accuracy (built-in function) :  0.7666666666666667\n"
     ]
    }
   ],
   "source": [
    "model = LogisticRegression(C=100, max_iter=200)\n",
    "model.fit(X_train, y_train)\n",
    "y_pred = model.predict(X_test)\n",
    "\n",
    "log_acc = model.score(X_test, y_test)\n",
    "log_f1 = f1_score(y_test, y_pred)\n",
    "print(\"Logistic Regression Accuracy (built-in function) : \", log_acc)"
   ]
  },
  {
   "cell_type": "code",
   "execution_count": 8,
   "id": "precious-detector",
   "metadata": {},
   "outputs": [
    {
     "data": {
      "text/plain": [
       "0.7545787545787547"
      ]
     },
     "execution_count": 8,
     "metadata": {},
     "output_type": "execute_result"
    }
   ],
   "source": [
    "#ROC\n",
    "roc_auc_score(y_test, y_pred)"
   ]
  },
  {
   "cell_type": "code",
   "execution_count": 9,
   "id": "encouraging-arrow",
   "metadata": {},
   "outputs": [
    {
     "name": "stdout",
     "output_type": "stream",
     "text": [
      "[[31  8]\n",
      " [ 6 15]]\n"
     ]
    }
   ],
   "source": [
    "cm_LR = confusion_matrix(y_test, y_pred)\n",
    "print(cm_LR)"
   ]
  },
  {
   "cell_type": "code",
   "execution_count": 10,
   "id": "consecutive-complement",
   "metadata": {},
   "outputs": [
    {
     "data": {
      "image/png": "[encoded data removed]",
      "text/plain": [
       "<Figure size 432x432 with 1 Axes>"
      ]
     },
     "metadata": {
      "needs_background": "light"
     },
     "output_type": "display_data"
    }
   ],
   "source": [
    "fig, ax = plot_confusion_matrix(conf_mat=cm_LR, figsize=(6, 6), cmap=plt.cm.Greens)\n",
    "plt.xlabel('Predictions', fontsize=18)\n",
    "plt.ylabel('Actuals', fontsize=18)\n",
    "plt.title('Confusion Matrix', fontsize=18)\n",
    "plt.show()"
   ]
  },
  {
   "cell_type": "code",
   "execution_count": 11,
   "id": "theoretical-dynamics",
   "metadata": {},
   "outputs": [
    {
     "name": "stdout",
     "output_type": "stream",
     "text": [
      "              precision    recall  f1-score   support\n",
      "\n",
      "           0       0.84      0.79      0.82        39\n",
      "           1       0.65      0.71      0.68        21\n",
      "\n",
      "    accuracy                           0.77        60\n",
      "   macro avg       0.75      0.75      0.75        60\n",
      "weighted avg       0.77      0.77      0.77        60\n",
      "\n"
     ]
    }
   ],
   "source": [
    "#Classification Report\n",
    "print(classification_report(y_test, y_pred))"
   ]
  },
  {
   "cell_type": "markdown",
   "id": "copyrighted-beach",
   "metadata": {},
   "source": [
    "# SVM"
   ]
  },
  {
   "cell_type": "code",
   "execution_count": 12,
   "id": "ideal-mills",
   "metadata": {},
   "outputs": [],
   "source": [
    "def gaussian(X, y, c, sigma):\n",
    "    gamma = 1 / (2 * sigma**2)\n",
    "    svm = SVC(kernel='rbf', C=c, gamma=gamma)\n",
    "    svm.fit(X,y)\n",
    "    return svm"
   ]
  },
  {
   "cell_type": "markdown",
   "id": "nasty-black",
   "metadata": {},
   "source": [
    "## Find the best C and Sigma(Gamma)"
   ]
  },
  {
   "cell_type": "code",
   "execution_count": 13,
   "id": "congressional-lebanon",
   "metadata": {},
   "outputs": [
    {
     "name": "stdout",
     "output_type": "stream",
     "text": [
      "Best value for C: 0.01\n",
      "Best value for Sigma: 0.01\n",
      "Score: 0.7333333333333333\n"
     ]
    }
   ],
   "source": [
    "Cs = [0.01, 0.03, 0.1, 0.3, 1, 3, 10, 30]\n",
    "sigmas = [0.01, 0.03, 0.1, 0.3, 1, 3, 10, 30]\n",
    "length = len(Cs)\n",
    "scores = np.zeros(shape=(length, length))\n",
    "\n",
    "for i,c in enumerate(Cs):\n",
    "    for j, sigma in enumerate(sigmas):\n",
    "        svm = gaussian(X_train, y_train, c=c, sigma=sigma)\n",
    "        scores[i,j] = accuracy_score(y_val, svm.predict(X_val))\n",
    "maxScore = np.amax(scores)\n",
    "pos = np.argwhere(scores == maxScore)[0]\n",
    "c_def = pos[0]\n",
    "s_def = pos[1]\n",
    "\n",
    "c = Cs[pos[0]]\n",
    "s = sigmas[pos[1]]\n",
    "print(\"Best value for C: \" + repr(c))\n",
    "print(\"Best value for Sigma: \" + repr(s))\n",
    "print(\"Score: \"+repr(maxScore))"
   ]
  },
  {
   "cell_type": "markdown",
   "id": "substantial-cursor",
   "metadata": {},
   "source": [
    "## RBF"
   ]
  },
  {
   "cell_type": "code",
   "execution_count": 14,
   "id": "above-alignment",
   "metadata": {},
   "outputs": [
    {
     "name": "stdout",
     "output_type": "stream",
     "text": [
      "Support Vector Machine => rbf\n",
      "Accuracy = 0.65\n",
      "F1_Score = 0.0\n",
      "\n"
     ]
    }
   ],
   "source": [
    "model_svc = SVC(kernel='rbf')\n",
    "model_svc.fit(X_train, y_train)\n",
    "y_pred_svc = model_svc.predict(X_test)\n",
    "\n",
    "svc_acc = model_svc.score(X_test, y_test)\n",
    "svc_f1 = f1_score(y_test, y_pred_svc)\n",
    "print(f'Support Vector Machine => rbf\\nAccuracy = {svc_acc}\\nF1_Score = {svc_f1}\\n')"
   ]
  },
  {
   "cell_type": "code",
   "execution_count": 15,
   "id": "respected-image",
   "metadata": {},
   "outputs": [
    {
     "data": {
      "text/plain": [
       "0.5"
      ]
     },
     "execution_count": 15,
     "metadata": {},
     "output_type": "execute_result"
    }
   ],
   "source": [
    "#ROC\n",
    "roc_auc_score(y_test, y_pred_svc)"
   ]
  },
  {
   "cell_type": "code",
   "execution_count": 16,
   "id": "widespread-screw",
   "metadata": {},
   "outputs": [
    {
     "name": "stdout",
     "output_type": "stream",
     "text": [
      "[[39  0]\n",
      " [21  0]]\n"
     ]
    }
   ],
   "source": [
    "cm_SVM = confusion_matrix(y_test, y_pred_svc)\n",
    "print(cm_SVM)"
   ]
  },
  {
   "cell_type": "code",
   "execution_count": 17,
   "id": "coupled-backing",
   "metadata": {},
   "outputs": [
    {
     "data": {
      "image/png": "[encoded data removed]",
      "text/plain": [
       "<Figure size 432x432 with 1 Axes>"
      ]
     },
     "metadata": {
      "needs_background": "light"
     },
     "output_type": "display_data"
    }
   ],
   "source": [
    "fig, ax = plot_confusion_matrix(conf_mat=cm_SVM, figsize=(6, 6), cmap=plt.cm.Greens)\n",
    "plt.xlabel('Predictions', fontsize=18)\n",
    "plt.ylabel('Actuals', fontsize=18)\n",
    "plt.title('Confusion Matrix', fontsize=18)\n",
    "plt.show()"
   ]
  },
  {
   "cell_type": "code",
   "execution_count": 18,
   "id": "shaped-python",
   "metadata": {},
   "outputs": [
    {
     "name": "stdout",
     "output_type": "stream",
     "text": [
      "              precision    recall  f1-score   support\n",
      "\n",
      "           0       0.65      1.00      0.79        39\n",
      "           1       0.00      0.00      0.00        21\n",
      "\n",
      "    accuracy                           0.65        60\n",
      "   macro avg       0.33      0.50      0.39        60\n",
      "weighted avg       0.42      0.65      0.51        60\n",
      "\n"
     ]
    }
   ],
   "source": [
    "#Classification Report\n",
    "print(classification_report(y_test, y_pred_svc))"
   ]
  },
  {
   "cell_type": "markdown",
   "id": "biblical-breed",
   "metadata": {},
   "source": [
    "## Linear"
   ]
  },
  {
   "cell_type": "code",
   "execution_count": 19,
   "id": "alone-recycling",
   "metadata": {},
   "outputs": [
    {
     "name": "stdout",
     "output_type": "stream",
     "text": [
      "Support Vector Machine => linear\n",
      "Accuracy = 0.75\n",
      "F1_Score = 0.5161290322580645\n",
      "\n"
     ]
    }
   ],
   "source": [
    "model_svc = SVC(kernel='linear', random_state=0)\n",
    "model_svc.fit(X_train, y_train)\n",
    "y_pred_svc = model_svc.predict(X_test)\n",
    "\n",
    "svc_acc = model_svc.score(X_test, y_test)\n",
    "svc_f1 = f1_score(y_test, y_pred_svc)\n",
    "print(f'Support Vector Machine => linear\\nAccuracy = {svc_acc}\\nF1_Score = {svc_f1}\\n')"
   ]
  },
  {
   "cell_type": "code",
   "execution_count": 20,
   "id": "backed-physiology",
   "metadata": {},
   "outputs": [
    {
     "data": {
      "text/plain": [
       "0.6648351648351648"
      ]
     },
     "execution_count": 20,
     "metadata": {},
     "output_type": "execute_result"
    }
   ],
   "source": [
    "#ROC\n",
    "roc_auc_score(y_test, y_pred_svc)"
   ]
  },
  {
   "cell_type": "code",
   "execution_count": 21,
   "id": "scientific-wallace",
   "metadata": {},
   "outputs": [
    {
     "name": "stdout",
     "output_type": "stream",
     "text": [
      "[[37  2]\n",
      " [13  8]]\n"
     ]
    }
   ],
   "source": [
    "cm_SVM = confusion_matrix(y_test, y_pred_svc)\n",
    "print(cm_SVM)"
   ]
  },
  {
   "cell_type": "code",
   "execution_count": 22,
   "id": "cross-economy",
   "metadata": {},
   "outputs": [
    {
     "data": {
      "image/png": "[encoded data removed]",
      "text/plain": [
       "<Figure size 432x432 with 1 Axes>"
      ]
     },
     "metadata": {
      "needs_background": "light"
     },
     "output_type": "display_data"
    }
   ],
   "source": [
    "fig, ax = plot_confusion_matrix(conf_mat=cm_SVM, figsize=(6, 6), cmap=plt.cm.Greens)\n",
    "plt.xlabel('Predictions', fontsize=18)\n",
    "plt.ylabel('Actuals', fontsize=18)\n",
    "plt.title('Confusion Matrix', fontsize=18)\n",
    "plt.show()"
   ]
  },
  {
   "cell_type": "code",
   "execution_count": 23,
   "id": "floral-helicopter",
   "metadata": {},
   "outputs": [
    {
     "name": "stdout",
     "output_type": "stream",
     "text": [
      "              precision    recall  f1-score   support\n",
      "\n",
      "           0       0.74      0.95      0.83        39\n",
      "           1       0.80      0.38      0.52        21\n",
      "\n",
      "    accuracy                           0.75        60\n",
      "   macro avg       0.77      0.66      0.67        60\n",
      "weighted avg       0.76      0.75      0.72        60\n",
      "\n"
     ]
    }
   ],
   "source": [
    "#Classification Report\n",
    "print(classification_report(y_test, y_pred_svc))"
   ]
  },
  {
   "cell_type": "markdown",
   "id": "relevant-bottom",
   "metadata": {},
   "source": [
    "# Neural Networks"
   ]
  },
  {
   "cell_type": "markdown",
   "id": "precise-excuse",
   "metadata": {},
   "source": [
    "## Find the best Lambda"
   ]
  },
  {
   "cell_type": "code",
   "execution_count": 24,
   "id": "dietary-enclosure",
   "metadata": {},
   "outputs": [
    {
     "name": "stdout",
     "output_type": "stream",
     "text": [
      "Best value for Lambda: 100\n",
      "Score: 0.7333333333333333\n"
     ]
    }
   ],
   "source": [
    "lambdas = [0.001, 0.01, 0.1, 1, 10, 100]\n",
    "length = len(lambdas)\n",
    "scores = np.zeros(shape=length)\n",
    "\n",
    "for i,l in enumerate(lambdas):\n",
    "    NN = MLPClassifier(learning_rate_init=l, max_iter =400)\n",
    "    NN.fit(X_train, y_train.ravel())\n",
    "    scores[i] = NN.score(X_val, y_val.ravel())\n",
    "\n",
    "maxScore = np.amax(scores)\n",
    "pos = np.argwhere(scores == maxScore)[-1]\n",
    "l = lambdas[pos[0]]\n",
    "print(\"Best value for Lambda: \" + repr(l))\n",
    "print(\"Score: \"+repr(maxScore))"
   ]
  },
  {
   "cell_type": "code",
   "execution_count": 25,
   "id": "russian-hamburg",
   "metadata": {},
   "outputs": [
    {
     "name": "stdout",
     "output_type": "stream",
     "text": [
      "Logistic Regression Accuracy (built-in function) :  0.65\n"
     ]
    }
   ],
   "source": [
    "model_nn = MLPClassifier(alpha=100)\n",
    "model_nn.fit(X_train, y_train)\n",
    "y_pred_nn = model_nn.predict(X_test)\n",
    "\n",
    "nn_acc = model_nn.score(X_test, y_test)\n",
    "nn_f1 = f1_score(y_test, y_pred_nn)\n",
    "print(\"Logistic Regression Accuracy (built-in function) : \", nn_acc)"
   ]
  },
  {
   "cell_type": "code",
   "execution_count": 26,
   "id": "oriented-cabin",
   "metadata": {},
   "outputs": [
    {
     "data": {
      "text/plain": [
       "0.5"
      ]
     },
     "execution_count": 26,
     "metadata": {},
     "output_type": "execute_result"
    }
   ],
   "source": [
    "#ROC\n",
    "roc_auc_score(y_test, y_pred_nn)"
   ]
  },
  {
   "cell_type": "code",
   "execution_count": 27,
   "id": "danish-brief",
   "metadata": {},
   "outputs": [
    {
     "name": "stdout",
     "output_type": "stream",
     "text": [
      "[[39  0]\n",
      " [21  0]]\n"
     ]
    }
   ],
   "source": [
    "cm_NN = confusion_matrix(y_test, y_pred_nn)\n",
    "print(cm_NN)"
   ]
  },
  {
   "cell_type": "code",
   "execution_count": 28,
   "id": "cloudy-spirituality",
   "metadata": {},
   "outputs": [
    {
     "data": {
      "image/png": "[encoded data removed]",
      "text/plain": [
       "<Figure size 432x432 with 1 Axes>"
      ]
     },
     "metadata": {
      "needs_background": "light"
     },
     "output_type": "display_data"
    }
   ],
   "source": [
    "fig, ax = plot_confusion_matrix(conf_mat=cm_NN, figsize=(6, 6), cmap=plt.cm.Greens)\n",
    "plt.xlabel('Predictions', fontsize=18)\n",
    "plt.ylabel('Actuals', fontsize=18)\n",
    "plt.title('Confusion Matrix', fontsize=18)\n",
    "plt.show()"
   ]
  },
  {
   "cell_type": "code",
   "execution_count": 29,
   "id": "aggregate-spencer",
   "metadata": {},
   "outputs": [
    {
     "name": "stdout",
     "output_type": "stream",
     "text": [
      "              precision    recall  f1-score   support\n",
      "\n",
      "           0       0.65      1.00      0.79        39\n",
      "           1       0.00      0.00      0.00        21\n",
      "\n",
      "    accuracy                           0.65        60\n",
      "   macro avg       0.33      0.50      0.39        60\n",
      "weighted avg       0.42      0.65      0.51        60\n",
      "\n"
     ]
    }
   ],
   "source": [
    "#Classification Report\n",
    "print(classification_report(y_test, y_pred_nn))"
   ]
  },
  {
   "cell_type": "markdown",
   "id": "excellent-vegetation",
   "metadata": {},
   "source": [
    "# Final Results"
   ]
  },
  {
   "cell_type": "code",
   "execution_count": 30,
   "id": "genetic-charleston",
   "metadata": {},
   "outputs": [
    {
     "name": "stdout",
     "output_type": "stream",
     "text": [
      "Logistic Regression\n",
      "Accuracy = 0.7666666666666667\n",
      "F1_Score = 0.6818181818181819\n",
      "\n",
      "Support Vector Machine\n",
      "Accuracy = 0.75\n",
      "F1_Score = 0.5161290322580645\n",
      "\n",
      "Neural Network\n",
      "Accuracy = 0.65\n",
      "F1_Score = 0.0\n",
      "\n"
     ]
    }
   ],
   "source": [
    "print(f'Logistic Regression\\nAccuracy = {log_acc}\\nF1_Score = {log_f1}\\n')\n",
    "print(f'Support Vector Machine\\nAccuracy = {svc_acc}\\nF1_Score = {svc_f1}\\n')\n",
    "print(f'Neural Network\\nAccuracy = {nn_acc}\\nF1_Score = {nn_f1}\\n')"
   ]
  }
 ],
 "metadata": {
  "kernelspec": {
   "display_name": "Python 3",
   "language": "python",
   "name": "python3"
  },
  "language_info": {
   "codemirror_mode": {
    "name": "ipython",
    "version": 3
   },
   "file_extension": ".py",
   "mimetype": "text/x-python",
   "name": "python",
   "nbconvert_exporter": "python",
   "pygments_lexer": "ipython3",
   "version": "3.9.6"
  }
 },
 "nbformat": 4,
 "nbformat_minor": 5
}
